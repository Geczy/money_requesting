{
 "cells": [
  {
   "cell_type": "markdown",
   "metadata": {},
   "source": [
    "# Automatic"
   ]
  },
  {
   "cell_type": "code",
   "execution_count": 28,
   "metadata": {},
   "outputs": [],
   "source": [
    "def venmo_requester(my_dic, total, tax=0, tip=0, misc_fees=0):\n",
    "    \"\"\"\n",
    "    Returns lump sums to request using venmo\n",
    "    \n",
    "    input\n",
    "    -----\n",
    "    my_dic: dict\n",
    "        Dictionary of name:[list of prices]\n",
    "    total: float\n",
    "        Total shown on receipt, charged to your card\n",
    "    tax: float\n",
    "        Tax applied in dollars, not percent\n",
    "    tip: float\n",
    "        Amount tipped in dollars, not percent\n",
    "    misc_fees: float\n",
    "        Sum of all other fees not accounted for, like delivery fee, etc\n",
    "        \n",
    "    output\n",
    "    -----\n",
    "    request: dict\n",
    "        Dictionary of name:amount, indicating how much to charge each person\n",
    "    \"\"\"\n",
    "    precheck_sum = 0\n",
    "    for key in my_dic.keys():\n",
    "        precheck_sum += sum(my_dic[key])\n",
    "        \n",
    "    if total != precheck_sum+tax+tip+misc_fees:\n",
    "        return f\"You provided {total} as the total, but I calculated {precheck_sum}\"\n",
    "    else:\n",
    "        num_ppl = len(my_dic.keys())\n",
    "        tip_perc = tip/total\n",
    "        request = {}\n",
    "        rounded_sum = 0\n",
    "        for key in my_dic.keys():        \n",
    "            my_list = my_dic[key]\n",
    "\n",
    "            my_total = sum(my_list)\n",
    "            tax_part = (tax/my_total) * my_total\n",
    "            fee_part = misc_fees/num_ppl\n",
    "            tip_part = tip_perc * my_total\n",
    "\n",
    "            person_total = round(my_total + tax_part + fee_part + tip_part,2)\n",
    "            rounded_sum += person_total\n",
    "            request[key] = person_total\n",
    "    \n",
    "        if rounded_sum < total:\n",
    "            print(f\"after rounding the calculated sum is {rounded_sum}, but the total charged to your credit card was {total}\")\n",
    "            rounding_error = round((total - rounded_sum)/num_ppl,2)\n",
    "            for key in request.keys():\n",
    "                request[key] += rounding_error\n",
    "            print(f\"rounding error found and adjusted for by adding {rounding_error} to each person.\")\n",
    "            print(f\"{rounded_sum} accounted for\")\n",
    "            return request\n",
    "        elif rounded_sum > total:\n",
    "            print(f\"Uh oh! My calculated venmo charge sum is {rounded_sum} but the receipt total was {total}\")\n",
    "        else:\n",
    "            print(f\"The venmo charge sum is same as the receipt total, no rounding correction needed\")\n"
   ]
  },
  {
   "cell_type": "code",
   "execution_count": 2,
   "metadata": {},
   "outputs": [
    {
     "name": "stdout",
     "output_type": "stream",
     "text": [
      "Uh oh! My calculated venmo charge sum is 145.02 but the receipt total was 112.2\n",
      "145.02 accounted for\n"
     ]
    }
   ],
   "source": [
    "receipt = {\n",
    "    'Hunter':[14],\n",
    "    'Aron':[7,8,8],\n",
    "    'Russell':[6,8],\n",
    "    'Julie':[3,7,3,7,7],\n",
    "    'Peter':[3,7]\n",
    "}\n",
    "\n",
    "venmo_requester(receipt, total=112.2, tax=8.8, tip = 11, misc_fees = 4.4)"
   ]
  },
  {
   "cell_type": "markdown",
   "metadata": {},
   "source": [
    "# Manual\n",
    "\n",
    "Calculated manually, with a simpler function"
   ]
  },
  {
   "cell_type": "code",
   "execution_count": 23,
   "metadata": {},
   "outputs": [],
   "source": [
    "def manual_requester(my_list):\n",
    "    taxes = 8.8/112.2 * sum(my_list)\n",
    "    fees = 4.4/5\n",
    "    tips = 11/112.2 * sum(my_list)\n",
    "    \n",
    "    rounding_error = (112.2-107.92)/5\n",
    "    request = sum(my_list) + taxes + fees + tips + rounding_error\n",
    "    return round(request,2)"
   ]
  },
  {
   "cell_type": "code",
   "execution_count": 27,
   "metadata": {},
   "outputs": [
    {
     "name": "stdout",
     "output_type": "stream",
     "text": [
      "Hunter 18.21\n",
      "Aron 28.79\n",
      "Russell 18.21\n",
      "Julie 33.5\n",
      "Peter 13.5\n",
      "___________\n",
      "total: 107.92\n",
      "adjusted total: 112.21\n"
     ]
    }
   ],
   "source": [
    "print(f\"Hunter {manual_requester([14])}\")\n",
    "print(f\"Aron {manual_requester([7,8,8])}\")\n",
    "print(f\"Russell {manual_requester([6,8])}\")\n",
    "print(f\"Julie {manual_requester([3,7,3,7,7])}\")\n",
    "print(f\"Peter {manual_requester([3,7])}\")\n",
    "print(\"___________\")\n",
    "total = 17.35 + 27.94 + 17.35 + 32.64 + 12.64\n",
    "print(f\"total: {total}\")\n",
    "\n",
    "new_total = round(18.21 + 28.79 + 18.21 + 33.5 + 13.5,2)\n",
    "print(f\"adjusted total: {new_total}\")\n",
    "\n",
    "    "
   ]
  },
  {
   "cell_type": "code",
   "execution_count": 13,
   "metadata": {},
   "outputs": [
    {
     "data": {
      "text/plain": [
       "18.178039215686276"
      ]
     },
     "execution_count": 13,
     "metadata": {},
     "output_type": "execute_result"
    }
   ],
   "source": [
    "8.8/112.2 * 14 + 14 + (4.4/5) + (11/5)"
   ]
  },
  {
   "cell_type": "code",
   "execution_count": null,
   "metadata": {},
   "outputs": [],
   "source": []
  }
 ],
 "metadata": {
  "kernelspec": {
   "display_name": "Python 3",
   "language": "python",
   "name": "python3"
  },
  "language_info": {
   "codemirror_mode": {
    "name": "ipython",
    "version": 3
   },
   "file_extension": ".py",
   "mimetype": "text/x-python",
   "name": "python",
   "nbconvert_exporter": "python",
   "pygments_lexer": "ipython3",
   "version": "3.7.3"
  }
 },
 "nbformat": 4,
 "nbformat_minor": 4
}
