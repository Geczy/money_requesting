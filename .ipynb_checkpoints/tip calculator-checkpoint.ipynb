{
 "cells": [
  {
   "cell_type": "markdown",
   "metadata": {},
   "source": [
    "# Automatic"
   ]
  },
  {
   "cell_type": "code",
   "execution_count": null,
   "metadata": {},
   "outputs": [],
   "source": [
    "def venmo_requester(my_dic, total, tax=0, tip=0, misc_fees=0):\n",
    "    \"\"\"\n",
    "    Returns lump sums to request using venmo\n",
    "    \n",
    "    input\n",
    "    -----\n",
    "    my_dic: dict\n",
    "        Dictionary of name:[list of prices]\n",
    "    total: float\n",
    "        Total shown on receipt, charged to your card\n",
    "    tax: float\n",
    "        Tax applied in dollars, not percent\n",
    "    tip: float\n",
    "        Amount tipped in dollars, not percent\n",
    "    misc_fees: float\n",
    "        Sum of all other fees not accounted for, like delivery fee, etc\n",
    "        \n",
    "    output\n",
    "    -----\n",
    "    request: dict\n",
    "        Dictionary of name:amount, indicating how much to charge each person\n",
    "    \"\"\"\n",
    "    precheck_sum = 0\n",
    "    for key in my_dic.keys():\n",
    "        precheck_sum += sum(my_dic[key])\n",
    "    \n",
    "    precheck_sum = round(precheck_sum+tax+tip+misc_fees,2)\n",
    "    if total != precheck_sum:\n",
    "        return f\"You provided {total} as the total, but I calculated {precheck_sum}\"\n",
    "    else:\n",
    "        num_ppl = len(my_dic.keys())\n",
    "        tip_perc = tip/total\n",
    "        tax_perc = tax/total\n",
    "        fee_part = misc_fees/num_ppl\n",
    "        request = {}\n",
    "        rounded_sum = 0\n",
    "        for key in my_dic.keys():        \n",
    "            my_list = my_dic[key]\n",
    "\n",
    "            my_total = sum(my_list)\n",
    "            tax_part = tax_perc * my_total\n",
    "            tip_part = tip_perc * my_total\n",
    "\n",
    "            person_total = round(my_total + tax_part + fee_part + tip_part,2)\n",
    "            rounded_sum += person_total\n",
    "            request[key] = person_total\n",
    "    \n",
    "        if rounded_sum < total:\n",
    "            print(f\"* After rounding the calculated sum is {rounded_sum}, but the total charged to your credit card was {total}\")\n",
    "            rounding_error = round((total - rounded_sum)/num_ppl,2)\n",
    "            for key in request.keys():\n",
    "                request[key] += rounding_error\n",
    "            print(f\"* Rounding error found and adjusted for by adding {rounding_error} to each person.\")\n",
    "            \n",
    "            new_total = 0\n",
    "            for key in request.keys():\n",
    "                new_total += request[key]\n",
    "            print(f\"* Confirmed {new_total} accounted for\")\n",
    "        elif rounded_sum > total:\n",
    "            return (f\"Uh oh! My calculated venmo charge sum is {rounded_sum} but the receipt total was {total}\")\n",
    "        else:\n",
    "            print(f\"The venmo charge sum is same as the receipt total, no rounding correction needed\")\n",
    "        print(\"___________________________\")\n",
    "        print('')\n",
    "        print('Venmo Requests:')\n",
    "        for key in request.keys():\n",
    "            print(f'{key}: ${round(request[key],2)}')\n",
    "        print(\"___________________________\")\n",
    "        print('')\n",
    "        print('Venmo Comments:')\n",
    "        for key in request.keys():\n",
    "            print(f'* {key}: food was ${round(sum(my_dic[key]),2)}, tip was {round(tip_perc*100,2)}%, tax was {round(tax_perc*100,2)}%, fees were ${round(fee_part,2)}')"
   ]
  },
  {
   "cell_type": "code",
   "execution_count": null,
   "metadata": {},
   "outputs": [],
   "source": [
    "receipt = str(input(\"Enter the name followed by the itemized food costs: \"))\n",
    "total = float(input(\"Enter the amount charged to your credit card, including the tip: \"))\n",
    "tip = float(input(\"Enter the amount tipped, in dollars not percentage: \"))\n",
    "tax = float(input(\"Enter the amount taxed, in dollars not percentage: \"))\n",
    "fees = float(input(\"Enter the total misc fees: \"))\n",
    "\n",
    "venmo_requester(receipt, total=total, tax=tax, tip=tip, misc_fees=misc_fees)"
   ]
  },
  {
   "cell_type": "code",
   "execution_count": null,
   "metadata": {},
   "outputs": [],
   "source": [
    "receipt = {\n",
    "    \"Russell\":[9.99,0.99,2.59],\n",
    "    \"Peter\":[10.49, 2.59]\n",
    "}\n",
    "\n",
    "venmo_requester(receipt, total=33.85, tax=2.2, tip=5)"
   ]
  },
  {
   "cell_type": "code",
   "execution_count": null,
   "metadata": {},
   "outputs": [],
   "source": []
  },
  {
   "cell_type": "code",
   "execution_count": null,
   "metadata": {},
   "outputs": [],
   "source": [
    "receipt = {\n",
    "    'Hunter':[14],\n",
    "    'Aron':[7,8,8],\n",
    "    'Russell':[6,8],\n",
    "    'Julie':[3,7,3,7,7],\n",
    "    'Peter':[3,7]\n",
    "}\n",
    "\n",
    "venmo_requester(receipt, total=112.2, tax=8.8, tip = 11, misc_fees = 4.4)"
   ]
  },
  {
   "cell_type": "code",
   "execution_count": null,
   "metadata": {},
   "outputs": [],
   "source": [
    "venmo_requester({\"Russell\":[4.75],\"Peter\":[3.0+4.7]},total = 23.94, tax=1, tip=3, misc_fees=7.49)"
   ]
  },
  {
   "cell_type": "markdown",
   "metadata": {},
   "source": [
    "# Manual\n",
    "\n",
    "Calculated manually, with a simpler function"
   ]
  },
  {
   "cell_type": "code",
   "execution_count": null,
   "metadata": {},
   "outputs": [],
   "source": [
    "def manual_requester(my_list):\n",
    "    taxes = 8.8/112.2 * sum(my_list)\n",
    "    fees = 4.4/5\n",
    "    tips = 11/112.2 * sum(my_list)\n",
    "    \n",
    "    rounding_error = (112.2-107.92)/5\n",
    "    request = sum(my_list) + taxes + fees + tips + rounding_error\n",
    "    return round(request,2)"
   ]
  },
  {
   "cell_type": "code",
   "execution_count": null,
   "metadata": {},
   "outputs": [],
   "source": [
    "print(f\"Hunter {manual_requester([14])}\")\n",
    "print(f\"Aron {manual_requester([7,8,8])}\")\n",
    "print(f\"Russell {manual_requester([6,8])}\")\n",
    "print(f\"Julie {manual_requester([3,7,3,7,7])}\")\n",
    "print(f\"Peter {manual_requester([3,7])}\")\n",
    "print(\"___________\")\n",
    "total = 17.35 + 27.94 + 17.35 + 32.64 + 12.64\n",
    "print(f\"total: {total}\")\n",
    "\n",
    "new_total = round(18.21 + 28.79 + 18.21 + 33.5 + 13.5,2)\n",
    "print(f\"adjusted total: {new_total}\")\n",
    "\n",
    "    "
   ]
  },
  {
   "cell_type": "code",
   "execution_count": null,
   "metadata": {},
   "outputs": [],
   "source": [
    "8.8/112.2 * 14 + 14 + (4.4/5) + (11/5)"
   ]
  },
  {
   "cell_type": "code",
   "execution_count": null,
   "metadata": {},
   "outputs": [],
   "source": []
  }
 ],
 "metadata": {
  "kernelspec": {
   "display_name": "Python 3",
   "language": "python",
   "name": "python3"
  },
  "language_info": {
   "codemirror_mode": {
    "name": "ipython",
    "version": 3
   },
   "file_extension": ".py",
   "mimetype": "text/x-python",
   "name": "python",
   "nbconvert_exporter": "python",
   "pygments_lexer": "ipython3",
   "version": "3.7.3"
  }
 },
 "nbformat": 4,
 "nbformat_minor": 4
}
